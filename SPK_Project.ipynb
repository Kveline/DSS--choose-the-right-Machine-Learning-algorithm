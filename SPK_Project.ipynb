{
  "nbformat": 4,
  "nbformat_minor": 0,
  "metadata": {
    "colab": {
      "name": "SPK_Project.ipynb",
      "provenance": [],
      "collapsed_sections": [
        "Pyc6jR-bUql1"
      ]
    },
    "kernelspec": {
      "name": "python3",
      "display_name": "Python 3"
    },
    "language_info": {
      "name": "python"
    }
  },
  "cells": [
    {
      "cell_type": "markdown",
      "metadata": {
        "id": "kFkRCQv6TLMJ"
      },
      "source": [
        "# Import Library"
      ]
    },
    {
      "cell_type": "code",
      "metadata": {
        "id": "nxlo5AfmScPJ"
      },
      "source": [
        "import numpy as np\n",
        "import pandas as pd\n",
        "import copy\n",
        "import matplotlib.pyplot as plt\n",
        "import seaborn as sns"
      ],
      "execution_count": null,
      "outputs": []
    },
    {
      "cell_type": "markdown",
      "metadata": {
        "id": "PxIeew8fTPmU"
      },
      "source": [
        "# BOBOT DENGAN AHP "
      ]
    },
    {
      "cell_type": "markdown",
      "metadata": {
        "id": "jsMp_mlbWi3t"
      },
      "source": [
        "## Normalisasi"
      ]
    },
    {
      "cell_type": "code",
      "metadata": {
        "id": "hxDahalZT6vS"
      },
      "source": [
        "def normalisasi_kriteria(kriteria):\n",
        "  kriteria['Waktu Komputasi'] = kriteria['Waktu Komputasi']/sum(kriteria['Waktu Komputasi'])\n",
        "  kriteria['Kompleksitas'] = kriteria['Kompleksitas']/sum(kriteria['Kompleksitas'])\n",
        "  kriteria['Akurasi'] = kriteria['Akurasi']/sum(kriteria['Akurasi'])\n",
        "  kriteria['Implementasi'] = kriteria['Implementasi']/sum(kriteria['Implementasi'])\n",
        "  kriteria['Memori'] = kriteria['Memori']/sum(kriteria['Memori'])\n",
        "  return kriteria"
      ],
      "execution_count": null,
      "outputs": []
    },
    {
      "cell_type": "markdown",
      "metadata": {
        "id": "P_Wz5j5mX-fL"
      },
      "source": [
        "## Bobot Kriteria"
      ]
    },
    {
      "cell_type": "code",
      "metadata": {
        "id": "s6swDnvuYDpu"
      },
      "source": [
        "def bobot_kriteria(kriteria):\n",
        "  # untuk kriteria yang sudah dinormalisasikan\n",
        "  kriteria['Bobot'] = kriteria['Waktu Komputasi'] + kriteria['Kompleksitas'] + kriteria['Akurasi'] + kriteria['Implementasi'] + kriteria['Memori']\n",
        "  kriteria['Bobot'] = kriteria['Bobot']/5\n",
        "  return kriteria"
      ],
      "execution_count": null,
      "outputs": []
    },
    {
      "cell_type": "markdown",
      "metadata": {
        "id": "LGOjavAYbXh1"
      },
      "source": [
        "## Mengecek Konsistensi"
      ]
    },
    {
      "cell_type": "code",
      "metadata": {
        "id": "NBDp_gaHbdjj"
      },
      "source": [
        "def cek_konsistensi(kriteria, matrix_criteria,n):\n",
        "  Ax = matrix_criteria.dot(kriteria['Bobot']) # A*X ; x = kriteria['Bobot']\n",
        "  lamda_max = Ax.divide(kriteria['Bobot']) # Ax dibagi x, untuk mencari lamda max, x = kriteria['Bobot']\n",
        "\n",
        "  lamda_max = lamda_max/n\n",
        "  lamda_max = lamda_max.sum()\n",
        "  \n",
        "  ci = (lamda_max - n)/(n-1)# mencari CI\n",
        "  ri = 1.12\n",
        "  cr = ci/ri # mencari CR\n",
        "  return \"Consistent!\" if cr<0.1 else \"Not Consistent!\""
      ],
      "execution_count": null,
      "outputs": []
    },
    {
      "cell_type": "markdown",
      "metadata": {
        "id": "KN0g36sSGsXT"
      },
      "source": [
        "## Fungsi AHP"
      ]
    },
    {
      "cell_type": "code",
      "metadata": {
        "id": "VeMpe1kiGuJ0"
      },
      "source": [
        "def ahp(matrix, n):\n",
        "  kriteria = copy.deepcopy(matrix) # menyimpan nilai kriteria yang belum dinormalisasi\n",
        "  kriteria = normalisasi_kriteria(kriteria) # normalisasi matrix kriteria\n",
        "  kriteria = bobot_kriteria(kriteria) # menambah bobot pada kriteria\n",
        "  print(cek_konsistensi(kriteria, matrix,n))\n",
        "  return kriteria"
      ],
      "execution_count": null,
      "outputs": []
    },
    {
      "cell_type": "markdown",
      "metadata": {
        "id": "GrkO6BW721-D"
      },
      "source": [
        "# SAW"
      ]
    },
    {
      "cell_type": "markdown",
      "metadata": {
        "id": "fsQi-v5H3vIt"
      },
      "source": [
        "## Normalisasi matriks"
      ]
    },
    {
      "cell_type": "code",
      "metadata": {
        "id": "9srSjYGj3xpK"
      },
      "source": [
        "def normalisasi_saw(M_saw, kriteria):\n",
        "  M_saw_normalized=np.zeros_like(M_saw, dtype=np.float64)\n",
        "  for i in range(len(M_saw[0])):\n",
        "      if (i+1) in kriteria['benefit']:\n",
        "        M_saw_normalized[:,i] = M_saw[:,i]/M_saw[:,i].max(axis=0)\n",
        "      else:\n",
        "        M_saw_normalized[:,i] = M_saw[:,i].min(axis=0)/M_saw[:,i]\n",
        "  return M_saw_normalized"
      ],
      "execution_count": null,
      "outputs": []
    },
    {
      "cell_type": "markdown",
      "metadata": {
        "id": "1809pJRB9XY9"
      },
      "source": [
        "## Penilaian dan Perangkingan"
      ]
    },
    {
      "cell_type": "code",
      "metadata": {
        "id": "pt3F3_579ZLq"
      },
      "source": [
        "def penilaian_saw(M_saw_normalized, w):\n",
        "  # matriks dikali bobot\n",
        "  M_saw_multiply = [np.multiply(i, w) for i in M_saw_normalized]\n",
        "  M_saw_multiply = [sum(i) for i in M_saw_multiply]\n",
        "  key = ['A'+str(i+1) for i in range(len(M_saw_multiply))]\n",
        "  V = dict(zip(key,M_saw_multiply))\n",
        "  V_sorted = dict(sorted(V.items(), key=lambda x:x[1], reverse=True))\n",
        "  return V_sorted"
      ],
      "execution_count": null,
      "outputs": []
    },
    {
      "cell_type": "markdown",
      "metadata": {
        "id": "HbMB3nnpEejv"
      },
      "source": [
        "## SAW main code"
      ]
    },
    {
      "cell_type": "code",
      "metadata": {
        "id": "8mF-4j4KEiPv"
      },
      "source": [
        "def saw(matrix, w, kriteria):\n",
        "  normalisasi_matrix = normalisasi_saw(matrix, kriteria) # normalisasi\n",
        "  return penilaian_saw(normalisasi_matrix, w) # penilaian dan perangkingan"
      ],
      "execution_count": null,
      "outputs": []
    },
    {
      "cell_type": "markdown",
      "metadata": {
        "id": "3oJuGuNeUVjD"
      },
      "source": [
        "# TOPSIS"
      ]
    },
    {
      "cell_type": "code",
      "metadata": {
        "id": "3q1aRkRQUhOy"
      },
      "source": [
        "def matrix_R(M):\n",
        "  denom=[np.sqrt(np.sum(list(map(lambda x:x**2, M[:,i])))) for i in range(len(M[0]))]\n",
        "  return M/denom"
      ],
      "execution_count": null,
      "outputs": []
    },
    {
      "cell_type": "code",
      "metadata": {
        "id": "Tm4k5WPOUiOu"
      },
      "source": [
        "def matrix_y(R,w):\n",
        "  return R*w"
      ],
      "execution_count": null,
      "outputs": []
    },
    {
      "cell_type": "code",
      "metadata": {
        "id": "L3AxcIlOUjLr"
      },
      "source": [
        "def nilai_A(y, kriteria):\n",
        "  A_plus=[]; A_min=[]\n",
        "  for i in range(len(y[0])):\n",
        "    if i in kriteria['benefit']:\n",
        "      A_plus.append(np.max(y[:,i]))\n",
        "      A_min.append(np.min(y[:,i]))\n",
        "    else:\n",
        "      A_plus.append(np.min(y[:,i]))\n",
        "      A_min.append(np.max(y[:,i]))\n",
        "  \n",
        "  return A_plus, A_min"
      ],
      "execution_count": null,
      "outputs": []
    },
    {
      "cell_type": "code",
      "metadata": {
        "id": "CmlUX-s6UkHZ"
      },
      "source": [
        "def nilai_D(A_plus, A_min, y):\n",
        "  D_plus=np.array([np.sqrt(np.sum((A_plus-i)**2)) for i in y])\n",
        "  D_min=np.array([np.sqrt(np.sum((i-A_min)**2)) for i in y])\n",
        "\n",
        "  return D_plus, D_min"
      ],
      "execution_count": null,
      "outputs": []
    },
    {
      "cell_type": "code",
      "metadata": {
        "id": "1GEb0bIrUlD4"
      },
      "source": [
        "def nilai_V(D_plus, D_min):\n",
        "  value=D_min/(D_plus+D_min)\n",
        "  key=['A'+str(i+1) for i in range(len(value))]\n",
        "  V=dict(zip(key,value))\n",
        "  V_sorted=dict(sorted(V.items(), key=lambda x:x[1], reverse=True))\n",
        "  return V_sorted"
      ],
      "execution_count": null,
      "outputs": []
    },
    {
      "cell_type": "code",
      "metadata": {
        "id": "_gS7KNsuUmCf"
      },
      "source": [
        "def TOPSIS(M,w,kriteria):\n",
        "  R=matrix_R(M)\n",
        "  y=matrix_y(R,w)\n",
        "  A_plus, A_min=nilai_A(y, kriteria)\n",
        "  D_plus, D_min=nilai_D(A_plus, A_min, y)\n",
        "  V=nilai_V(D_plus, D_min)\n",
        "\n",
        "  return V"
      ],
      "execution_count": null,
      "outputs": []
    },
    {
      "cell_type": "code",
      "metadata": {
        "id": "z2QqNczLUnDO"
      },
      "source": [
        "# print(TOPSIS(M,w,kriteria_topsis))"
      ],
      "execution_count": null,
      "outputs": []
    },
    {
      "cell_type": "markdown",
      "metadata": {
        "id": "Pyc6jR-bUql1"
      },
      "source": [
        "# COPELAND"
      ]
    },
    {
      "cell_type": "code",
      "metadata": {
        "id": "KnQg_K0EUonr"
      },
      "source": [
        "# data={\n",
        "#     'DM1':{\n",
        "#         'P1':0.911489,\n",
        "#         'P9':0.571017,\n",
        "#         'P10':0.553032,\n",
        "#         'P8':0.530622,\n",
        "#         'P4':0.521865,\n",
        "#         'P7':0.521865,\n",
        "#         'P5':0.462834,\n",
        "#         'P3':0.45363,\n",
        "#         'P2':0.435366,\n",
        "#         'P6':0\n",
        "#     },\n",
        "#     'DM2':{\n",
        "#         'P3':0.614761,\n",
        "#         'P10':0.614761,\n",
        "#         'P4':0.597624,\n",
        "#         'P7':0.597624,\n",
        "#         'P2':0.573689,\n",
        "#         'P6':0.569533,\n",
        "#         'P9':0.569533,\n",
        "#         'P8':0.553453,\n",
        "#         'P5':0.541074,\n",
        "#         'P1':0.453388\n",
        "#     },\n",
        "#     'DM3':{\n",
        "#         'P1':0.789999,\n",
        "#         'P3':0.70706,\n",
        "#         'P4':0.70706,\n",
        "#         'P10':0.70706,\n",
        "#         'P6':0.675952,\n",
        "#         'P9':0.675952,\n",
        "#         'P2':0.594851,\n",
        "#         'P7':0.594851,\n",
        "#         'P8':0.585358,\n",
        "#         'P5':0.572409\n",
        "#     },\n",
        "#     'DM4':{\n",
        "#         'P1':0.777171,\n",
        "#         'P3':0.53296,\n",
        "#         'P5':0.53296,\n",
        "#         'P10':0.53296,\n",
        "#         'P6':0.524957,\n",
        "#         'P7':0.524957,\n",
        "#         'P9':0.524957,\n",
        "#         'P2':0.522668,\n",
        "#         'P4':0.522668,\n",
        "#         'P8':0.522668\n",
        "#     },\n",
        "# }"
      ],
      "execution_count": null,
      "outputs": []
    },
    {
      "cell_type": "code",
      "metadata": {
        "id": "jRk46OI9Uvj5"
      },
      "source": [
        "def ranking_DM(data):\n",
        "  ranking={i:dict(zip(data[i].keys(), np.arange(1,len(data[i])+1))) for i in data}\n",
        "  return ranking\n",
        "\n",
        "def pairwise_contest(DM_weight, ranking):\n",
        "  voting={'A'+str(i):{'win':0, 'draw':0, 'lose':0} for i in range(1,len(data['DM1'])+1)};\n",
        "  for i in range(1, len(ranking['DM1'])+1):\n",
        "    for j in range(i+1, len(ranking['DM1'])+1):\n",
        "      sum=[0,0]\n",
        "      for k in ranking:\n",
        "        if ranking[k]['A'+str(i)]<ranking[k]['A'+str(j)]:\n",
        "          sum[0]+=DM_weight[k]\n",
        "        else:\n",
        "          sum[1]+=DM_weight[k]\n",
        "      \n",
        "      if sum[0]>sum[1]:\n",
        "        voting['A'+str(i)]['win']+=1\n",
        "        voting['A'+str(j)]['lose']+=1\n",
        "      elif sum[0]<sum[1]:\n",
        "        voting['A'+str(j)]['win']+=1\n",
        "        voting['A'+str(i)]['lose']+=1\n",
        "      else:\n",
        "        voting['A'+str(j)]['draw']+=1\n",
        "        voting['A'+str(i)]['draw']+=1\n",
        "    \n",
        "  return voting\n",
        "\n",
        "def decision(voting):\n",
        "  poin={i:voting[i]['win']-voting[i]['lose'] for i in voting}\n",
        "  final_rank=dict(sorted(poin.items(), key=lambda x:x[1], reverse=True))\n",
        "  return list(final_rank.keys())"
      ],
      "execution_count": null,
      "outputs": []
    },
    {
      "cell_type": "code",
      "metadata": {
        "id": "vp7oMZp1UwlV"
      },
      "source": [
        "def pairwise_contest(DM_weight, ranking):\n",
        "  voting={'A'+str(i):{'win':0, 'draw':0, 'lose':0} for i in range(1,len(data['DM1'])+1)};\n",
        "  for i in range(1, len(ranking['DM1'])+1):\n",
        "    for j in range(i+1, len(ranking['DM1'])+1):\n",
        "      sum=[0,0]\n",
        "      for k in ranking:\n",
        "        if ranking[k]['A'+str(i)]<ranking[k]['A'+str(j)]:\n",
        "          sum[0]+=DM_weight[k]\n",
        "        else:\n",
        "          sum[1]+=DM_weight[k]\n",
        "      \n",
        "      if sum[0]>sum[1]:\n",
        "        voting['A'+str(i)]['win']+=1\n",
        "        voting['A'+str(j)]['lose']+=1\n",
        "      elif sum[0]<sum[1]:\n",
        "        voting['A'+str(j)]['win']+=1\n",
        "        voting['A'+str(i)]['lose']+=1\n",
        "      else:\n",
        "        voting['A'+str(j)]['draw']+=1\n",
        "        voting['A'+str(i)]['draw']+=1\n",
        "  \n",
        "  return voting"
      ],
      "execution_count": null,
      "outputs": []
    },
    {
      "cell_type": "code",
      "metadata": {
        "id": "fZHWwON9UxhX"
      },
      "source": [
        "def decision(voting):\n",
        "  poin={i:voting[i]['win']-voting[i]['lose'] for i in voting}\n",
        "  final_rank=dict(sorted(poin.items(), key=lambda x:x[1], reverse=True))\n",
        "  return list(final_rank.keys())\n"
      ],
      "execution_count": null,
      "outputs": []
    },
    {
      "cell_type": "code",
      "metadata": {
        "id": "Sm1G0cCWUymf"
      },
      "source": [
        "def copeland(data, DM_weight):\n",
        "  ranking=ranking_DM(data)\n",
        "  voting=pairwise_contest(DM_weight, ranking)\n",
        "\n",
        "  for k,v in voting.items():\n",
        "    print(k,\":\",v)\n",
        "  return decision(voting)"
      ],
      "execution_count": null,
      "outputs": []
    },
    {
      "cell_type": "code",
      "metadata": {
        "id": "VQ9zlPpwUzhU"
      },
      "source": [
        "# DM_weight={'DM1':.1, 'DM2':.4, 'DM3':.3, 'DM4':.2}\n",
        "# copeland(data, DM_weight)"
      ],
      "execution_count": null,
      "outputs": []
    },
    {
      "cell_type": "markdown",
      "metadata": {
        "id": "iTDy-VHzXM6y"
      },
      "source": [
        "# INTEGRASI"
      ]
    },
    {
      "cell_type": "markdown",
      "metadata": {
        "id": "3mtd2dMqgq-G"
      },
      "source": [
        "## DM_Iris"
      ]
    },
    {
      "cell_type": "code",
      "metadata": {
        "colab": {
          "base_uri": "https://localhost:8080/",
          "height": 218
        },
        "id": "mGyTLb04guzm",
        "outputId": "71712119-cc18-4a1b-96df-a5a6407b2a9f"
      },
      "source": [
        "# matriks kriteria\n",
        "kriteria=pd.DataFrame({\n",
        "    'Waktu Komputasi':[1, 5, 0.2, 0.3, 0.3], \n",
        "    'Kompleksitas':[0.2, 1, 0.2, 0.3, 0.3],\n",
        "    \"Akurasi\": [5, 5, 1, 3, 1], \n",
        "    \"Implementasi\": [3, 3, 0.3, 1, 0.3],\n",
        "    \"Memori\" : [3, 3, 1, 3, 1]\n",
        "}, index = [\"Waktu Komputasi\",\"Kompleksitas\",\"Akurasi\", \"Implementasi\", \"Memori\"])\n",
        "\n",
        "# menyimpan nilai kriteria yang belum dinormalisasi\n",
        "kriteria=ahp(kriteria, 5)\n",
        "kriteria"
      ],
      "execution_count": null,
      "outputs": [
        {
          "output_type": "stream",
          "text": [
            "Consistent!\n"
          ],
          "name": "stdout"
        },
        {
          "output_type": "execute_result",
          "data": {
            "text/html": [
              "<div>\n",
              "<style scoped>\n",
              "    .dataframe tbody tr th:only-of-type {\n",
              "        vertical-align: middle;\n",
              "    }\n",
              "\n",
              "    .dataframe tbody tr th {\n",
              "        vertical-align: top;\n",
              "    }\n",
              "\n",
              "    .dataframe thead th {\n",
              "        text-align: right;\n",
              "    }\n",
              "</style>\n",
              "<table border=\"1\" class=\"dataframe\">\n",
              "  <thead>\n",
              "    <tr style=\"text-align: right;\">\n",
              "      <th></th>\n",
              "      <th>Waktu Komputasi</th>\n",
              "      <th>Kompleksitas</th>\n",
              "      <th>Akurasi</th>\n",
              "      <th>Implementasi</th>\n",
              "      <th>Memori</th>\n",
              "      <th>Bobot</th>\n",
              "    </tr>\n",
              "  </thead>\n",
              "  <tbody>\n",
              "    <tr>\n",
              "      <th>Waktu Komputasi</th>\n",
              "      <td>0.147059</td>\n",
              "      <td>0.10</td>\n",
              "      <td>0.333333</td>\n",
              "      <td>0.394737</td>\n",
              "      <td>0.272727</td>\n",
              "      <td>0.249571</td>\n",
              "    </tr>\n",
              "    <tr>\n",
              "      <th>Kompleksitas</th>\n",
              "      <td>0.735294</td>\n",
              "      <td>0.50</td>\n",
              "      <td>0.333333</td>\n",
              "      <td>0.394737</td>\n",
              "      <td>0.272727</td>\n",
              "      <td>0.447218</td>\n",
              "    </tr>\n",
              "    <tr>\n",
              "      <th>Akurasi</th>\n",
              "      <td>0.029412</td>\n",
              "      <td>0.10</td>\n",
              "      <td>0.066667</td>\n",
              "      <td>0.039474</td>\n",
              "      <td>0.090909</td>\n",
              "      <td>0.065292</td>\n",
              "    </tr>\n",
              "    <tr>\n",
              "      <th>Implementasi</th>\n",
              "      <td>0.044118</td>\n",
              "      <td>0.15</td>\n",
              "      <td>0.200000</td>\n",
              "      <td>0.131579</td>\n",
              "      <td>0.272727</td>\n",
              "      <td>0.159685</td>\n",
              "    </tr>\n",
              "    <tr>\n",
              "      <th>Memori</th>\n",
              "      <td>0.044118</td>\n",
              "      <td>0.15</td>\n",
              "      <td>0.066667</td>\n",
              "      <td>0.039474</td>\n",
              "      <td>0.090909</td>\n",
              "      <td>0.078233</td>\n",
              "    </tr>\n",
              "  </tbody>\n",
              "</table>\n",
              "</div>"
            ],
            "text/plain": [
              "                 Waktu Komputasi  Kompleksitas  ...    Memori     Bobot\n",
              "Waktu Komputasi         0.147059          0.10  ...  0.272727  0.249571\n",
              "Kompleksitas            0.735294          0.50  ...  0.272727  0.447218\n",
              "Akurasi                 0.029412          0.10  ...  0.090909  0.065292\n",
              "Implementasi            0.044118          0.15  ...  0.272727  0.159685\n",
              "Memori                  0.044118          0.15  ...  0.090909  0.078233\n",
              "\n",
              "[5 rows x 6 columns]"
            ]
          },
          "metadata": {
            "tags": []
          },
          "execution_count": 33
        }
      ]
    },
    {
      "cell_type": "code",
      "metadata": {
        "id": "I3TfpqY1l1u-",
        "colab": {
          "base_uri": "https://localhost:8080/"
        },
        "outputId": "85ca6731-2aa6-4369-b773-5affc0ed45bd"
      },
      "source": [
        "# nilai kriteria dari dara IRIS\n",
        "# urutan :::\n",
        "# Logistic Regression\n",
        "# Decision Tree\n",
        "# Naive Bayes\n",
        "# SVM\n",
        "# KNN\n",
        "# MLP\n",
        "# Random Forest\n",
        "# XGboost\n",
        "\n",
        "M_saw=[\n",
        "       [1, 165130240, 97, 3, 0.1],\n",
        "       [1, 165048320, 93, 3, 0.2],\n",
        "       [1, 165212160, 85, 3, 0.2],\n",
        "       [1, 165908480, 98, 1, 0.2],\n",
        "       [1.2, 165908480, 97, 4, 0.3],\n",
        "       [1.5, 220208480, 97.5, 1, 0.5],\n",
        "       [1, 172208480, 93, 2, 0.24],\n",
        "       [1.5, 147108180, 95, 2, 0.22]\n",
        "]\n",
        "w=[round(val, 2) for val in kriteria['Bobot'].tolist()]\n",
        "kriteria_saw={\n",
        "  'benefit':[3,4],\n",
        "  'cost':[1,2,5]\n",
        "}\n",
        "M_saw =np.array(M_saw)\n",
        "DM_Iris=saw(M_saw, w, kriteria_saw)"
      ],
      "execution_count": null,
      "outputs": [
        {
          "output_type": "stream",
          "text": [
            "{'A1': 0.9201734075392335, 'A2': 0.877515241077799, 'A3': 0.8714031998959053, 'A5': 0.8632929319999625, 'A7': 0.8141720162732542, 'A8': 0.8008874458874459, 'A4': 0.7990072177142484, 'A6': 0.5929277425084586}\n"
          ],
          "name": "stdout"
        }
      ]
    },
    {
      "cell_type": "code",
      "metadata": {
        "colab": {
          "base_uri": "https://localhost:8080/"
        },
        "id": "TNXh11zz5sCY",
        "outputId": "32dad65d-36e0-4a08-fa3d-116c8eb0ed65"
      },
      "source": [
        "for k,v in DM_Iris.items():\n",
        "  print(k,\":\",v)"
      ],
      "execution_count": null,
      "outputs": [
        {
          "output_type": "stream",
          "text": [
            "A1 : 0.9201734075392335\n",
            "A2 : 0.877515241077799\n",
            "A3 : 0.8714031998959053\n",
            "A5 : 0.8632929319999625\n",
            "A7 : 0.8141720162732542\n",
            "A8 : 0.8008874458874459\n",
            "A4 : 0.7990072177142484\n",
            "A6 : 0.5929277425084586\n"
          ],
          "name": "stdout"
        }
      ]
    },
    {
      "cell_type": "markdown",
      "metadata": {
        "id": "3ngiLg3hmLYD"
      },
      "source": [
        "## DM_Wine"
      ]
    },
    {
      "cell_type": "code",
      "metadata": {
        "colab": {
          "base_uri": "https://localhost:8080/",
          "height": 218
        },
        "id": "zImdv0tbmPvu",
        "outputId": "01039bd8-1bbb-4aeb-a307-bc24b8a62981"
      },
      "source": [
        "Criteria=pd.DataFrame({\n",
        "    'Waktu Komputasi':[1., .5, 1., .25, .33],\n",
        "    'Kompleksitas':[2., 1., 3., .25, .5],\n",
        "    'Akurasi':[1.,.3,1.,.2,.25],\n",
        "    'Implementasi':[4., 4., 5., 1., 2.],\n",
        "    'Memori':[3., 2., 4., .5, 1.]},\n",
        "    index=[\"Waktu Komputasi\",\"Kompleksitas\",\"Akurasi\", \"Implementasi\", \"Memori\"])\n",
        "\n",
        "kriteria = ahp(Criteria, 5)\n",
        "kriteria"
      ],
      "execution_count": null,
      "outputs": [
        {
          "output_type": "stream",
          "text": [
            "Consistent!\n"
          ],
          "name": "stdout"
        },
        {
          "output_type": "execute_result",
          "data": {
            "text/html": [
              "<div>\n",
              "<style scoped>\n",
              "    .dataframe tbody tr th:only-of-type {\n",
              "        vertical-align: middle;\n",
              "    }\n",
              "\n",
              "    .dataframe tbody tr th {\n",
              "        vertical-align: top;\n",
              "    }\n",
              "\n",
              "    .dataframe thead th {\n",
              "        text-align: right;\n",
              "    }\n",
              "</style>\n",
              "<table border=\"1\" class=\"dataframe\">\n",
              "  <thead>\n",
              "    <tr style=\"text-align: right;\">\n",
              "      <th></th>\n",
              "      <th>Waktu Komputasi</th>\n",
              "      <th>Kompleksitas</th>\n",
              "      <th>Akurasi</th>\n",
              "      <th>Implementasi</th>\n",
              "      <th>Memori</th>\n",
              "      <th>Bobot</th>\n",
              "    </tr>\n",
              "  </thead>\n",
              "  <tbody>\n",
              "    <tr>\n",
              "      <th>Waktu Komputasi</th>\n",
              "      <td>0.324675</td>\n",
              "      <td>0.296296</td>\n",
              "      <td>0.363636</td>\n",
              "      <td>0.2500</td>\n",
              "      <td>0.285714</td>\n",
              "      <td>0.304064</td>\n",
              "    </tr>\n",
              "    <tr>\n",
              "      <th>Kompleksitas</th>\n",
              "      <td>0.162338</td>\n",
              "      <td>0.148148</td>\n",
              "      <td>0.109091</td>\n",
              "      <td>0.2500</td>\n",
              "      <td>0.190476</td>\n",
              "      <td>0.172011</td>\n",
              "    </tr>\n",
              "    <tr>\n",
              "      <th>Akurasi</th>\n",
              "      <td>0.324675</td>\n",
              "      <td>0.444444</td>\n",
              "      <td>0.363636</td>\n",
              "      <td>0.3125</td>\n",
              "      <td>0.380952</td>\n",
              "      <td>0.365242</td>\n",
              "    </tr>\n",
              "    <tr>\n",
              "      <th>Implementasi</th>\n",
              "      <td>0.081169</td>\n",
              "      <td>0.037037</td>\n",
              "      <td>0.072727</td>\n",
              "      <td>0.0625</td>\n",
              "      <td>0.047619</td>\n",
              "      <td>0.060210</td>\n",
              "    </tr>\n",
              "    <tr>\n",
              "      <th>Memori</th>\n",
              "      <td>0.107143</td>\n",
              "      <td>0.074074</td>\n",
              "      <td>0.090909</td>\n",
              "      <td>0.1250</td>\n",
              "      <td>0.095238</td>\n",
              "      <td>0.098473</td>\n",
              "    </tr>\n",
              "  </tbody>\n",
              "</table>\n",
              "</div>"
            ],
            "text/plain": [
              "                 Waktu Komputasi  Kompleksitas  ...    Memori     Bobot\n",
              "Waktu Komputasi         0.324675      0.296296  ...  0.285714  0.304064\n",
              "Kompleksitas            0.162338      0.148148  ...  0.190476  0.172011\n",
              "Akurasi                 0.324675      0.444444  ...  0.380952  0.365242\n",
              "Implementasi            0.081169      0.037037  ...  0.047619  0.060210\n",
              "Memori                  0.107143      0.074074  ...  0.095238  0.098473\n",
              "\n",
              "[5 rows x 6 columns]"
            ]
          },
          "metadata": {
            "tags": []
          },
          "execution_count": 30
        }
      ]
    },
    {
      "cell_type": "code",
      "metadata": {
        "id": "eBGMw3cumRR8",
        "colab": {
          "base_uri": "https://localhost:8080/"
        },
        "outputId": "a37deecd-7d6d-43c7-b44f-0b2b26fe6425"
      },
      "source": [
        "Matrix=pd.DataFrame({\n",
        "    'Waktu Komputasi':[134.0, 27.8, 7.57, 191., 24.8, 278, 2380., 825.],\n",
        "    'Kompleksitas':[13189.0, 40606.55, 13189.0, 15813611.0, 39567.0, 4060654.62, 116363698176.0, 3691.5],\n",
        "    'Akurasi':[0.515, 1.0, 0.4625, 0.5075, 0.7875, 0.5575, 0.6125, 0.7925],\n",
        "    'Implementasi':[4, 3, 4, 3, 2, 2, 1, 3],\n",
        "    'Memori':[1, 81, 2, 190, 314, 197, 36, 360]},\n",
        "    index=['LogReg', 'Decision Tree', 'Naive Bayes', 'SVM', 'KNN', 'Random Forest', 'MLP', 'XGBoost'])\n",
        "\n",
        "M=np.array(Matrix.values.tolist()) # list kriteria dan nilainya\n",
        "w=[round(val, 2) for val in kriteria['Bobot'].tolist()] # input bobot dari perhitungan ahp\n",
        "kriteria_topsis={\n",
        "  'benefit':[3,4],\n",
        "  'cost':[1,2,5]\n",
        "}\n",
        "\n",
        "DM_Wine=TOPSIS(M,w,kriteria_topsis)\n",
        "# print(DM_Wine)"
      ],
      "execution_count": null,
      "outputs": [
        {
          "output_type": "stream",
          "text": [
            "{'A4': 0.8928334537967376, 'A6': 0.8647470043301816, 'A3': 0.8427321332095179, 'A5': 0.8366905186035767, 'A1': 0.8311092754419239, 'A2': 0.7383376073351332, 'A8': 0.6932938523370872, 'A7': 0.1834097931393461}\n"
          ],
          "name": "stdout"
        }
      ]
    },
    {
      "cell_type": "code",
      "metadata": {
        "colab": {
          "base_uri": "https://localhost:8080/"
        },
        "id": "6-DStjDH6KpS",
        "outputId": "73a80fe2-0f02-4ad4-b312-d98ebd79bb59"
      },
      "source": [
        "for k,v in DM_Wine.items():\n",
        "  print(k,\":\",v)"
      ],
      "execution_count": null,
      "outputs": [
        {
          "output_type": "stream",
          "text": [
            "A4 : 0.8928334537967376\n",
            "A6 : 0.8647470043301816\n",
            "A3 : 0.8427321332095179\n",
            "A5 : 0.8366905186035767\n",
            "A1 : 0.8311092754419239\n",
            "A2 : 0.7383376073351332\n",
            "A8 : 0.6932938523370872\n",
            "A7 : 0.1834097931393461\n"
          ],
          "name": "stdout"
        }
      ]
    },
    {
      "cell_type": "markdown",
      "metadata": {
        "id": "u1Kh2RGNpLKm"
      },
      "source": [
        "## GDSS"
      ]
    },
    {
      "cell_type": "code",
      "metadata": {
        "colab": {
          "base_uri": "https://localhost:8080/"
        },
        "id": "4O8HFqkBmqVV",
        "outputId": "a4884091-9a39-415d-e701-b20894abe01f"
      },
      "source": [
        "data={'DM1':DM_Iris, 'DM2':DM_Wine}\n",
        "DM_weight={'DM1':.45, 'DM2':.55}\n",
        "Decision=copeland(data, DM_weight)"
      ],
      "execution_count": null,
      "outputs": [
        {
          "output_type": "stream",
          "text": [
            "{'A1': {'win': 3, 'draw': 0, 'lose': 4}, 'A2': {'win': 2, 'draw': 0, 'lose': 5}, 'A3': {'win': 5, 'draw': 0, 'lose': 2}, 'A4': {'win': 7, 'draw': 0, 'lose': 0}, 'A5': {'win': 4, 'draw': 0, 'lose': 3}, 'A6': {'win': 6, 'draw': 0, 'lose': 1}, 'A7': {'win': 0, 'draw': 0, 'lose': 7}, 'A8': {'win': 1, 'draw': 0, 'lose': 6}}\n",
            "A1 : {'win': 3, 'draw': 0, 'lose': 4}\n",
            "A2 : {'win': 2, 'draw': 0, 'lose': 5}\n",
            "A3 : {'win': 5, 'draw': 0, 'lose': 2}\n",
            "A4 : {'win': 7, 'draw': 0, 'lose': 0}\n",
            "A5 : {'win': 4, 'draw': 0, 'lose': 3}\n",
            "A6 : {'win': 6, 'draw': 0, 'lose': 1}\n",
            "A7 : {'win': 0, 'draw': 0, 'lose': 7}\n",
            "A8 : {'win': 1, 'draw': 0, 'lose': 6}\n"
          ],
          "name": "stdout"
        }
      ]
    },
    {
      "cell_type": "code",
      "metadata": {
        "colab": {
          "base_uri": "https://localhost:8080/"
        },
        "id": "Hi5lj1-16xD9",
        "outputId": "07a3f26b-ee6e-45ce-9e72-1888aeee291a"
      },
      "source": [
        "Model={\n",
        "    'A1':'Logistic Regression',\n",
        "    'A2':'Decision Tree',\n",
        "    'A3':'Naive Bayes',\n",
        "    'A4':'SVM',\n",
        "    'A5':'KNN',\n",
        "    'A6':'MLP',\n",
        "    'A7':'Random Forest',\n",
        "    'A8':'XGBoost'\n",
        "}\n",
        "print('Urutan Rekomendasi berdasarkan GDSS: \\n', [Model[i] for i in Decision])"
      ],
      "execution_count": null,
      "outputs": [
        {
          "output_type": "stream",
          "text": [
            "Urutan Rekomendasi berdasarkan GDSS: \n",
            " ['SVM', 'MLP', 'Naive Bayes', 'KNN', 'Logistic Regression', 'Decision Tree', 'XGBoost', 'Random Forest']\n"
          ],
          "name": "stdout"
        }
      ]
    },
    {
      "cell_type": "code",
      "metadata": {
        "id": "oVjueFLjn2I9"
      },
      "source": [
        ""
      ],
      "execution_count": null,
      "outputs": []
    }
  ]
}